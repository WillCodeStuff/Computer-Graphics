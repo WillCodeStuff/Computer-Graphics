{
 "cells": [
  {
   "cell_type": "code",
   "execution_count": 1,
   "id": "2af4edb2",
   "metadata": {},
   "outputs": [],
   "source": [
    "# imports\n",
    "import numpy as np\n",
    "from PIL import Image"
   ]
  },
  {
   "cell_type": "code",
   "execution_count": 2,
   "id": "17e4a844",
   "metadata": {},
   "outputs": [],
   "source": [
    "# variables\n",
    "width = 600\n",
    "height = 400\n",
    "viewportSize = 1\n",
    "projectionPlane = 1\n",
    "\n",
    "#Scene objects\n",
    "\n",
    "camera = np.array([0,0,0])\n",
    "\n",
    "spheres = [{\"center\": np.array([0,-1,3]), \"radius\": 1, \"color\": (255,0,0),\"S\":500, \"refl\": 0.0, \"refr\": 0},#red\n",
    "          {\"center\": np.array([-2,0,4]), \"radius\": 1, \"color\": (0,255,0),\"S\":10 , \"refl\": 0,  \"refr\": 0}, #green\n",
    "          {\"center\": np.array([2,0,4]), \"radius\": 1, \"color\": (0,0,255),\"S\":500,  \"refl\": 0.1,  \"refr\": 0}, #blue\n",
    "          {\"center\": np.array([0,-5001,0]), \"radius\": 5000, \"color\": (255,255,0),\"S\":0,  \"refl\": 0 , \"refr\": 0} #grey floor\n",
    "          ]\n",
    "lights = [\n",
    "    {\"type\": \"ambient\",\"intensity\": 0.2},\n",
    "    {\"type\": \"point\",\"intensity\": 0.6, \"position\": np.array([2,1,0])},\n",
    "    {\"type\": \"directional\",\"intensity\": 0.2, \"direction\": np.array([1,4,4])}\n",
    "]"
   ]
  },
  {
   "cell_type": "code",
   "execution_count": 3,
   "id": "aeaab23c",
   "metadata": {},
   "outputs": [],
   "source": [
    "def canvasViewport(x,y):\n",
    "    return np.array([\n",
    "        x * viewportSize / width,\n",
    "        y * viewportSize / height,\n",
    "        projectionPlane\n",
    "    ])"
   ]
  },
  {
   "cell_type": "code",
   "execution_count": 4,
   "id": "5195a5fc",
   "metadata": {},
   "outputs": [],
   "source": [
    "def intersectRays(origin, direction, sphere):\n",
    "    \n",
    "    center = sphere[\"center\"]\n",
    "    r = sphere[\"radius\"]\n",
    "    oc = origin - center\n",
    "    \n",
    "    a = np.dot(direction,direction)\n",
    "    b = 2 * np.dot(oc,direction)\n",
    "    c = np.dot(oc,oc) - r**2\n",
    "    \n",
    "    disc = b**2 - 4*(a*c)\n",
    "    if (disc < 0):\n",
    "        return float(\"inf\"), float(\"inf\")\n",
    "    else:\n",
    "        t1 = (-b - np.sqrt(disc)) / (2*a)\n",
    "        t2 = (-b + np.sqrt(disc)) / (2*a)\n",
    "        return t1,t2\n",
    "    \n",
    "    "
   ]
  },
  {
   "cell_type": "code",
   "execution_count": 5,
   "id": "0e3dc833",
   "metadata": {},
   "outputs": [],
   "source": [
    "def closestIntersection(O,D,t_min):\n",
    "    closest_t = float(\"inf\") \n",
    "    closestSphere = None\n",
    "        \n",
    "    #check for ray intersections with spheres\n",
    "    for sphere in spheres:\n",
    "        t1,t2 = intersectRays(O, D, sphere)\n",
    "            \n",
    "        if t1> t_min and t1 < closest_t:\n",
    "            closest_t = t1\n",
    "            closestSphere = sphere\n",
    "            pixelColor = closestSphere[\"color\"]\n",
    "                \n",
    "        if t2 > t_min and t2 < closest_t:\n",
    "            closest_t = t2\n",
    "            closestSphere = sphere\n",
    "            pixelColor = closestSphere[\"color\"]\n",
    "            \n",
    "    return closestSphere, closest_t\n",
    "        "
   ]
  },
  {
   "cell_type": "code",
   "execution_count": 6,
   "id": "1e23f1d4",
   "metadata": {},
   "outputs": [],
   "source": [
    "def computeLighting (P,N,V,S):\n",
    "    intensity = 0.0\n",
    "    \n",
    "    for light in lights:\n",
    "        if light[\"type\"]==\"ambient\":\n",
    "            intensity = intensity + light[\"intensity\"]\n",
    "        else:\n",
    "            if light[\"type\"] == \"point\":\n",
    "                L = light[\"position\"] - P\n",
    "            else:\n",
    "                L = light[\"direction\"]\n",
    "                \n",
    "            L = L/np.linalg.norm(L)\n",
    "            \n",
    "            shadowSphere, shadow_t = closestIntersection(P,L,0.001)\n",
    "            if shadowSphere != None:\n",
    "                return min(intensity,1)\n",
    "            \n",
    "            n_dot_l = np.dot(N,L)\n",
    "            if n_dot_l > 0:\n",
    "                intensity = intensity + light[\"intensity\"] * n_dot_l / (np.linalg.norm(L) * np.linalg.norm(N))\n",
    "                \n",
    "            if S != -1:\n",
    "                R = 2 * N * np.dot(N,L) - L\n",
    "                r_dot_v = np.dot(R,V)\n",
    "                if r_dot_v > 0:\n",
    "                    intensity = intensity + light[\"intensity\"] * (r_dot_v/(np.linalg.norm(R)*np.linalg.norm(V))) ** S\n",
    "                    \n",
    "            \n",
    "            \n",
    "    return min(intensity,1)"
   ]
  },
  {
   "cell_type": "code",
   "execution_count": 7,
   "id": "a9becaf0-4d35-468f-be91-c302f71862c1",
   "metadata": {},
   "outputs": [],
   "source": [
    "def reflectRay(R,N):\n",
    "    return 2 * N * np.dot(N,R) - R"
   ]
  },
  {
   "cell_type": "code",
   "execution_count": 8,
   "id": "7fb16595-ec1a-48bf-b2fd-a277c54b2f49",
   "metadata": {},
   "outputs": [],
   "source": [
    "def traceRay(O, D, t_min, t_max, depth):\n",
    "    closestS, closestT = closestIntersection(O, D, t_min)\n",
    "\n",
    "    if closestS == None: \n",
    "        return  (158, 224, 255)\n",
    "    P = O + closestT * D\n",
    "    N = P - closestS[\"center\"]\n",
    "    N = N/np.linalg.norm(N)\n",
    "    pixelColor = closestS[\"color\"]\n",
    "    localColor = tuple(map(lambda v: min(round(v * computeLighting(P,N,-D,closestS[\"S\"])),255), pixelColor))\n",
    "    \n",
    "    refr = closestS[\"refr\"]\n",
    "    \n",
    "\n",
    "    refl = closestS[\"refl\"]\n",
    "    if depth<= 0 or refl <= 0:\n",
    "        return localColor\n",
    "\n",
    "    R = reflectRay(-D, N)\n",
    "        \n",
    "    reflectedColor = traceRay(P, R, 0.001, t_max, depth - 1) \n",
    "    \n",
    "    \n",
    "\n",
    "    temp1 = tuple(map(lambda v: v * (1 - refl), localColor))\n",
    "    temp2 = tuple(map(lambda v: v * refl, reflectedColor))\n",
    "    return tuple(map(lambda v1,v2: min(round(v1 + v2 ),255), temp1, temp2))"
   ]
  },
  {
   "cell_type": "code",
   "execution_count": null,
   "id": "67700cc9",
   "metadata": {},
   "outputs": [],
   "source": [
    "image = Image.new(\"RGB\", (width, height), \"white\")\n",
    "pixels = image.load()\n",
    "\n",
    "#create canvas\n",
    "for x in range(width):\n",
    "    #print( x/width * 100, \"%\")\n",
    "    for y in range(height):\n",
    "        viewX = (x - width/2)\n",
    "        viewY = -(y - height/2)\n",
    "        direction = canvasViewport(viewX,viewY)\n",
    "        direction = direction /np.linalg.norm(direction)\n",
    "        closest_t = float(\"inf\")\n",
    "        #pixelColor = (255,255,255) #background color if no intersection\n",
    "        intersection = False\n",
    "        \n",
    "        #check for ray intersections with spheres\n",
    "\n",
    "        pixelColor = traceRay(camera, direction, 1, 1000, 3)\n",
    "        pixels[x,y] = pixelColor\n",
    "        "
   ]
  },
  {
   "cell_type": "code",
   "execution_count": null,
   "id": "ba79f226",
   "metadata": {},
   "outputs": [],
   "source": [
    "image.show()"
   ]
  }
 ],
 "metadata": {
  "kernelspec": {
   "display_name": "Python 3 (ipykernel)",
   "language": "python",
   "name": "python3"
  },
  "language_info": {
   "codemirror_mode": {
    "name": "ipython",
    "version": 3
   },
   "file_extension": ".py",
   "mimetype": "text/x-python",
   "name": "python",
   "nbconvert_exporter": "python",
   "pygments_lexer": "ipython3",
   "version": "3.9.12"
  }
 },
 "nbformat": 4,
 "nbformat_minor": 5
}
